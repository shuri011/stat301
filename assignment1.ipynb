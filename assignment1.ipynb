{
 "cells": [
  {
   "cell_type": "markdown",
   "id": "9d33ad4a-c714-4c89-81cc-ea86192323c8",
   "metadata": {},
   "source": [
    "#  Assignment 1: Data Description & Exploratory Data Analysis and Visualization"
   ]
  },
  {
   "cell_type": "markdown",
   "id": "90428fbf-8c7b-4a0e-a4a9-d4ab2f9b7fe1",
   "metadata": {},
   "source": [
    "## Data Description"
   ]
  },
  {
   "cell_type": "markdown",
   "id": "68bdca6a-d4c7-44df-9bda-42959804e61f",
   "metadata": {},
   "source": [
    "### HR Analytics\n",
    "\n",
    "This dataset consists of HR analytics with 10 variables important in interpreting organizational data and helping the HR Department fine-tune their company. The dataset is by downloading the CSV file from the Kaggle dataset (Rushikesh 2022). \n",
    "\n",
    "The 10 variables are:\n",
    "\n",
    "- `Age`: Age of the employee.\n",
    "  \n",
    "- `Attrition`: employee attrition.\n",
    "\n",
    "- `BusinessTravel`: how frequently an employee travels for business purposes.\n",
    "\n",
    "- `DailyRate`: Daily wage of an employee.\n",
    "\n",
    "- `Department`: Employee department.\n",
    "\n",
    "- `DistanceFromHome`: Distance form home to office in KM's.\n",
    "\n",
    "- `Education`: Qualification of employee (masked).\n",
    "\n",
    "- `EducationField`: Stream of Education.\n",
    "\n",
    "- `EmployeeCount`: Employee count.\n",
    "\n",
    "- `EmployeeNumber`: employee number.\n",
    "\n",
    "There are 6 **numeric variables** `Age`, `DailyRate`, `DistanceFromHome`, `Education`, `EmployeeCount`, and `EmployeeNumber`, and there are 3 **categorical variables** `Department`, `Education`, and `EducationField` and 1 **binary variable** `Attrition`.\n"
   ]
  },
  {
   "cell_type": "markdown",
   "id": "787459e7-bd43-49d0-baa2-bad122e5efa9",
   "metadata": {},
   "source": [
    "## Question\n",
    "\n",
    "Can we determine employee `attrition` based on `EducationField`, `department`, `DailyRate`, and `DistanceFromHome`? We are using a linear model in order to compare with different groups of employees Education Field, Department, Daily Rate, and Distance From Home. We will also need to figure out whether there are confounding variables that attribute to our dataset. \n"
   ]
  },
  {
   "cell_type": "markdown",
   "id": "62e6ea31-e834-41de-92a8-7775652252ca",
   "metadata": {},
   "source": [
    "Categorical variables (`EducationField` and `Department`) can offer insight into whether certain educational backgrounds or departmental affiliations correlate with higher or lower attrition rates.\n",
    "\n",
    "Continuous variables (`DailyRate` and `DistanceFromHome`) can reveal whether factors like salary or commute distance play a significant role in an employee's decision to leave the company.\n",
    "\n",
    "This question focuses on both prediction and inference. \n",
    "\n",
    "- **Prediction**: We predict the likelihood of employee attrition based on input variables.\n",
    "\n",
    "- **Inference**: By examining the relationship between input variables and a response variable, we can infer which factors are most strongly associated with employee attrition."
   ]
  },
  {
   "cell_type": "markdown",
   "id": "145ad8e7-0065-47b5-ab5b-9b6223331df8",
   "metadata": {},
   "source": [
    "### Exploratory Data Analysis and Visualization"
   ]
  },
  {
   "cell_type": "code",
   "execution_count": 89,
   "id": "df4b3449-171b-48fd-a513-26973a2f9381",
   "metadata": {},
   "outputs": [
    {
     "name": "stderr",
     "output_type": "stream",
     "text": [
      "Updating HTML index of packages in '.Library'\n",
      "\n",
      "Making 'packages.html' ...\n",
      " done\n",
      "\n",
      "── \u001b[1mAttaching packages\u001b[22m ────────────────────────────────────── tidymodels 1.2.0 ──\n",
      "\n",
      "\u001b[32m✔\u001b[39m \u001b[34mbroom       \u001b[39m 1.0.6     \u001b[32m✔\u001b[39m \u001b[34mrsample     \u001b[39m 1.2.1\n",
      "\u001b[32m✔\u001b[39m \u001b[34mdials       \u001b[39m 1.2.1     \u001b[32m✔\u001b[39m \u001b[34mtune        \u001b[39m 1.2.1\n",
      "\u001b[32m✔\u001b[39m \u001b[34minfer       \u001b[39m 1.0.7     \u001b[32m✔\u001b[39m \u001b[34mworkflows   \u001b[39m 1.1.4\n",
      "\u001b[32m✔\u001b[39m \u001b[34mmodeldata   \u001b[39m 1.4.0     \u001b[32m✔\u001b[39m \u001b[34mworkflowsets\u001b[39m 1.1.0\n",
      "\u001b[32m✔\u001b[39m \u001b[34mparsnip     \u001b[39m 1.2.1     \u001b[32m✔\u001b[39m \u001b[34myardstick   \u001b[39m 1.3.1\n",
      "\u001b[32m✔\u001b[39m \u001b[34mrecipes     \u001b[39m 1.1.0     \n",
      "\n",
      "── \u001b[1mConflicts\u001b[22m ───────────────────────────────────────── tidymodels_conflicts() ──\n",
      "\u001b[31m✖\u001b[39m \u001b[34mscales\u001b[39m::\u001b[32mdiscard()\u001b[39m masks \u001b[34mpurrr\u001b[39m::discard()\n",
      "\u001b[31m✖\u001b[39m \u001b[34mdplyr\u001b[39m::\u001b[32mfilter()\u001b[39m   masks \u001b[34mstats\u001b[39m::filter()\n",
      "\u001b[31m✖\u001b[39m \u001b[34mrecipes\u001b[39m::\u001b[32mfixed()\u001b[39m  masks \u001b[34mstringr\u001b[39m::fixed()\n",
      "\u001b[31m✖\u001b[39m \u001b[34mdplyr\u001b[39m::\u001b[32mlag()\u001b[39m      masks \u001b[34mstats\u001b[39m::lag()\n",
      "\u001b[31m✖\u001b[39m \u001b[34myardstick\u001b[39m::\u001b[32mspec()\u001b[39m masks \u001b[34mreadr\u001b[39m::spec()\n",
      "\u001b[31m✖\u001b[39m \u001b[34mrecipes\u001b[39m::\u001b[32mstep()\u001b[39m   masks \u001b[34mstats\u001b[39m::step()\n",
      "\u001b[34m•\u001b[39m Use \u001b[32mtidymodels_prefer()\u001b[39m to resolve common conflicts.\n",
      "\n"
     ]
    }
   ],
   "source": [
    "install.packages(\"kknn\")\n",
    "library(repr)\n",
    "library(tidyverse)\n",
    "library(tidymodels)"
   ]
  },
  {
   "cell_type": "code",
   "execution_count": 92,
   "id": "e4f0b6a8-6819-4c87-b5a2-77ae35155525",
   "metadata": {},
   "outputs": [
    {
     "ename": "ERROR",
     "evalue": "Error in eval(expr, envir, enclos): object 'HR' not found\n",
     "output_type": "error",
     "traceback": [
      "Error in eval(expr, envir, enclos): object 'HR' not found\nTraceback:\n",
      "1. head(HR - Employee - Attrition.csv)"
     ]
    }
   ],
   "source": [
    "\n",
    "bills_data <- read_delim(\"https://raw.githubusercontent.com/shuri011/stat301/main/HR-Employee-Attrition.csv\", \n",
    "                         delim = \";\", show_col_types = FALSE )\n",
    "\n",
    "head(HR-Employee-Attrition.csv)"
   ]
  },
  {
   "cell_type": "code",
   "execution_count": null,
   "id": "88381a26-34a2-450e-a0d3-d5dd6b07fa8d",
   "metadata": {},
   "outputs": [],
   "source": [
    "\n"
   ]
  },
  {
   "cell_type": "code",
   "execution_count": null,
   "id": "274f3045-023e-4358-852c-8edb2379a0e7",
   "metadata": {},
   "outputs": [],
   "source": []
  }
 ],
 "metadata": {
  "kernelspec": {
   "display_name": "R",
   "language": "R",
   "name": "ir"
  },
  "language_info": {
   "codemirror_mode": "r",
   "file_extension": ".r",
   "mimetype": "text/x-r-source",
   "name": "R",
   "pygments_lexer": "r",
   "version": "4.3.3"
  }
 },
 "nbformat": 4,
 "nbformat_minor": 5
}
